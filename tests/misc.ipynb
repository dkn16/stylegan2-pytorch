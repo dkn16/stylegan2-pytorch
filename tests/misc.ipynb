{
 "cells": [
  {
   "cell_type": "code",
   "execution_count": 10,
   "id": "f7af88cb",
   "metadata": {},
   "outputs": [
    {
     "name": "stdout",
     "output_type": "stream",
     "text": [
      "/work/dkn16/stylegan2-pytorch\n"
     ]
    }
   ],
   "source": [
    "cd .."
   ]
  },
  {
   "cell_type": "code",
   "execution_count": 1,
   "id": "d82613b8",
   "metadata": {},
   "outputs": [],
   "source": [
    "import numpy as np"
   ]
  },
  {
   "cell_type": "code",
   "execution_count": 2,
   "id": "2046be06",
   "metadata": {},
   "outputs": [],
   "source": [
    "x=10**(np.linspace(0.,1.,5,endpoint=False)[1:5]*2+4)\n",
    "y=10**(np.linspace(0.,1.,5,endpoint=False)[1:5]*1.398+1)\n",
    "samples=np.array(np.meshgrid(x,y)).T.reshape(-1,2)"
   ]
  },
  {
   "cell_type": "code",
   "execution_count": 6,
   "id": "9cd71c80",
   "metadata": {},
   "outputs": [],
   "source": [
    "repeat=np.tile(samples,100).reshape((-1,2))\n",
    "np.savetxt('./Parameters_test.txt',repeat,fmt=\"%.3f\",delimiter=\" \")"
   ]
  },
  {
   "cell_type": "code",
   "execution_count": 1,
   "id": "d8f678c7",
   "metadata": {},
   "outputs": [],
   "source": [
    "import torch"
   ]
  },
  {
   "cell_type": "code",
   "execution_count": 40,
   "id": "74e5eb4f",
   "metadata": {},
   "outputs": [
    {
     "data": {
      "text/plain": [
       "tensor([[0.5877],\n",
       "        [0.9035]])"
      ]
     },
     "execution_count": 40,
     "metadata": {},
     "output_type": "execute_result"
    }
   ],
   "source": [
    "latent=torch.rand(2,1)\n",
    "latent"
   ]
  },
  {
   "cell_type": "code",
   "execution_count": 41,
   "id": "28c1838c",
   "metadata": {},
   "outputs": [
    {
     "ename": "ValueError",
     "evalue": "only one element tensors can be converted to Python scalars",
     "output_type": "error",
     "traceback": [
      "\u001b[0;31m---------------------------------------------------------------------------\u001b[0m",
      "\u001b[0;31mValueError\u001b[0m                                Traceback (most recent call last)",
      "Input \u001b[0;32mIn [41]\u001b[0m, in \u001b[0;36m<cell line: 1>\u001b[0;34m()\u001b[0m\n\u001b[0;32m----> 1\u001b[0m \u001b[43mtorch\u001b[49m\u001b[38;5;241;43m.\u001b[39;49m\u001b[43mtensor\u001b[49m\u001b[43m(\u001b[49m\u001b[43m(\u001b[49m\u001b[43mlatent\u001b[49m\u001b[43m,\u001b[49m\u001b[43mlatent\u001b[49m\u001b[43m)\u001b[49m\u001b[43m)\u001b[49m\n",
      "\u001b[0;31mValueError\u001b[0m: only one element tensors can be converted to Python scalars"
     ]
    }
   ],
   "source": [
    "torch.tensor((latent,latent))"
   ]
  },
  {
   "cell_type": "code",
   "execution_count": 44,
   "id": "328dd6aa",
   "metadata": {},
   "outputs": [
    {
     "data": {
      "text/plain": [
       "torch.Size([2, 2, 1])"
      ]
     },
     "execution_count": 44,
     "metadata": {},
     "output_type": "execute_result"
    }
   ],
   "source": [
    "latent.repeat(2,1,1).shape"
   ]
  },
  {
   "cell_type": "code",
   "execution_count": 11,
   "id": "a9e68528",
   "metadata": {},
   "outputs": [],
   "source": [
    "from train import mixing_noise"
   ]
  },
  {
   "cell_type": "code",
   "execution_count": 13,
   "id": "3ad620ee",
   "metadata": {},
   "outputs": [],
   "source": [
    "noise=mixing_noise(32,8,1,device='cpu')"
   ]
  },
  {
   "cell_type": "code",
   "execution_count": 16,
   "id": "d924b057",
   "metadata": {},
   "outputs": [
    {
     "data": {
      "text/plain": [
       "torch.Size([32, 8])"
      ]
     },
     "execution_count": 16,
     "metadata": {},
     "output_type": "execute_result"
    }
   ],
   "source": [
    "noise[0].size()"
   ]
  },
  {
   "cell_type": "code",
   "execution_count": 29,
   "id": "9326aba4",
   "metadata": {},
   "outputs": [
    {
     "data": {
      "text/plain": [
       "[tensor(1), tensor(1)]"
      ]
     },
     "execution_count": 29,
     "metadata": {},
     "output_type": "execute_result"
    }
   ],
   "source": [
    "\n",
    "class test(torch.nn.AvgPool1d):\n",
    "    def forward(self,input):\n",
    "        out=[]\n",
    "        for i in input:\n",
    "            out.append(torch.tensor(1))\n",
    "        return out\n",
    "conv=test(3)\n",
    "conv((latent,latent))"
   ]
  },
  {
   "cell_type": "code",
   "execution_count": null,
   "id": "30bdea3f",
   "metadata": {},
   "outputs": [],
   "source": []
  }
 ],
 "metadata": {
  "kernelspec": {
   "display_name": "PyTorch",
   "language": "python",
   "name": "pytorch-1.4.0"
  },
  "language_info": {
   "codemirror_mode": {
    "name": "ipython",
    "version": 3
   },
   "file_extension": ".py",
   "mimetype": "text/x-python",
   "name": "python",
   "nbconvert_exporter": "python",
   "pygments_lexer": "ipython3",
   "version": "3.8.1"
  }
 },
 "nbformat": 4,
 "nbformat_minor": 5
}
